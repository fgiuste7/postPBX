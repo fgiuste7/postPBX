{
 "cells": [
  {
   "cell_type": "markdown",
   "metadata": {},
   "source": [
    "###### Nipype Workflow for ProbTrackX2 fdt_path waypath thresholding\n",
    "## Version 4: Identity Interface"
   ]
  },
  {
   "cell_type": "code",
   "execution_count": null,
   "metadata": {},
   "outputs": [],
   "source": [
    "from nipype import config\n",
    "cfg = dict(execution={'remove_unnecessary_outputs': False,\n",
    "                      'keep_inputs': True},\n",
    "           monitoring={'enabled': True,\n",
    "                       'sample_frequency': 5}\n",
    "          )\n",
    "config.update_config(cfg)"
   ]
  },
  {
   "cell_type": "code",
   "execution_count": null,
   "metadata": {},
   "outputs": [],
   "source": [
    "from os.path import abspath\n",
    "from IPython.display import Image\n",
    "\n",
    "from nipype import SelectFiles, Node, MapNode, Workflow, Function\n",
    "from nipype.interfaces import fsl\n",
    "from nipype.interfaces.fsl import ExtractROI\n",
    "from nipype.interfaces.fsl import ImageStats\n",
    "from nipype.interfaces.io import DataSink\n",
    "from nipype.interfaces.utility import IdentityInterface\n",
    "\n",
    "import networkx\n",
    "import graphviz as gv\n",
    "import os\n",
    "import base64\n",
    "import re\n",
    "import glob\n",
    "import sys\n",
    "import subprocess\n",
    "\n",
    "import pickle\n",
    "import numpy as np\n",
    "import pandas as pd\n",
    "import matplotlib as mpl\n",
    "import matplotlib.pyplot as plt\n",
    "\n",
    "from plotly import __version__\n",
    "from plotly.offline import init_notebook_mode, plot, iplot\n",
    "from plotly import graph_objs as go\n",
    "\n",
    "import dash\n",
    "import dash_core_components as dcc\n",
    "import dash_html_components as html\n",
    "from dash.dependencies import Input,Output\n",
    "\n",
    "from ipywidgets import interact, interactive, fixed, interact_manual\n",
    "import ipywidgets as widgets\n",
    "init_notebook_mode(connected=False)"
   ]
  },
  {
   "cell_type": "markdown",
   "metadata": {},
   "source": [
    "## Select Files:"
   ]
  },
  {
   "cell_type": "code",
   "execution_count": null,
   "metadata": {},
   "outputs": [],
   "source": [
    "# Node: SelectFiles\n",
    "## Selects subject folders from \"/data/NipypeScratch/runpbx2/\"\n",
    "#s_templates={'subject': '_subject_id_100[2-3]*'} # 2 subjects\n",
    "s_templates={'subject': '_subject_id_*'} # All subjects\n",
    "\n",
    "sf0 = Node(SelectFiles(s_templates),\n",
    "          name='selectfiles0'\n",
    "          )\n",
    "sf0.inputs.base_directory = '/data/NipypeScratch/runpbx2/'\n",
    "\n",
    "sf0.run().outputs"
   ]
  },
  {
   "cell_type": "code",
   "execution_count": null,
   "metadata": {},
   "outputs": [],
   "source": [
    "def extractData(subject, Tscaling=1000 ):\n",
    "    import subprocess\n",
    "    import glob\n",
    "    print('Subject: %s' % subject)\n",
    "    \n",
    "    output= []\n",
    "    fdt_paths= []\n",
    "    waytotals= []\n",
    "    \n",
    "    for i in subject:\n",
    "        for j in glob.glob( i+'/_seed*' ):\n",
    "            fdt_paths.append( j+ '/pbx2/fdt_paths.nii.gz' )\n",
    "            \n",
    "            tmpwaytotal= j+'/pbx2/waytotal'\n",
    "            mycommand= \"cat \"+ tmpwaytotal\n",
    "            mycommand= mycommand.split(sep=' ')\n",
    "            result= subprocess.run(mycommand, stdout=subprocess.PIPE)\n",
    "            waytotals.append( float( result.stdout.decode(\"utf-8\").split(' ')[0] ) / Tscaling )\n",
    "            \n",
    "    print('fdt_paths: %s' % fdt_paths)\n",
    "    print('waytotals: %s' % waytotals)\n",
    "    output= [ fdt_paths, waytotals ]\n",
    "    return(output)"
   ]
  },
  {
   "cell_type": "code",
   "execution_count": null,
   "metadata": {},
   "outputs": [],
   "source": [
    "getData = Node(Function(input_names=\"subject\",\n",
    "                            output_names=[\"output\"],\n",
    "                            function=extractData),\n",
    "                   name = 'extractData'\n",
    "                   #, iterfield = ['subject'] \n",
    "              )"
   ]
  },
  {
   "cell_type": "markdown",
   "metadata": {},
   "source": [
    "## Threshold fdt_paths using waytotal:"
   ]
  },
  {
   "cell_type": "code",
   "execution_count": null,
   "metadata": {},
   "outputs": [],
   "source": [
    "# Node: Function: Thresholds using FSL Maths\n",
    "# ifiles: original input file\n",
    "Threshold = MapNode(fsl.Threshold(),\n",
    "                    name = 'Threshold',\n",
    "                    iterfield = ['in_file', 'thresh']\n",
    "                    #, terminal_output = 'stream'\n",
    "                    )\n",
    "\n",
    "Threshold.output_type= 'NIFTI_GZ'\n",
    "#Threshold.use_robust_range= True\n",
    "\n",
    "#Threshold.in_file= # From pipeline: fdt_paths\n",
    "#Threshold.thresh= # From pipeline: waytotal\n",
    "#Threshold.out_file= # From pipeline: OPTIONAL"
   ]
  },
  {
   "cell_type": "markdown",
   "metadata": {},
   "source": [
    "## Initialize Workflows:"
   ]
  },
  {
   "cell_type": "code",
   "execution_count": null,
   "metadata": {},
   "outputs": [],
   "source": [
    "# Workflow: Initialize\n",
    "wf = Workflow(name=\"ThreshNipype\")\n",
    "wf.base_dir = '/data/SASRAID/'"
   ]
  },
  {
   "cell_type": "markdown",
   "metadata": {},
   "source": [
    "## Connect Nodes:"
   ]
  },
  {
   "cell_type": "code",
   "execution_count": null,
   "metadata": {},
   "outputs": [],
   "source": [
    "# Connect Nodes\n",
    "get_first= lambda x: x[0]\n",
    "get_second= lambda x: x[1] \n",
    "\n",
    "\n",
    "wf.connect(sf0, \"subject\", getData, \"subject\")\n",
    "\n",
    "wf.connect(getData, (\"output\", get_first), Threshold, \"in_file\")\n",
    "wf.connect(getData, (\"output\", get_second), Threshold, \"thresh\")"
   ]
  },
  {
   "cell_type": "markdown",
   "metadata": {},
   "source": [
    "## Write Graph:"
   ]
  },
  {
   "cell_type": "code",
   "execution_count": null,
   "metadata": {},
   "outputs": [],
   "source": [
    "# Workflow: Graph: Exec\n",
    "wf.write_graph(graph2use='exec', dotfilename='/output/graph_exec.dot')\n",
    "\n",
    "# Visualize graph\n",
    "Image(filename=\"/output/graph_exec_detailed.png\")"
   ]
  },
  {
   "cell_type": "markdown",
   "metadata": {},
   "source": [
    "## Run Workflow:"
   ]
  },
  {
   "cell_type": "code",
   "execution_count": null,
   "metadata": {},
   "outputs": [],
   "source": [
    "# Run Workflow\n",
    "wf.run()\n",
    "# wf.run(plugin='MultiProc', plugin_args={'n_procs': 1})"
   ]
  },
  {
   "cell_type": "markdown",
   "metadata": {},
   "source": [
    "## Print final directory structure:"
   ]
  },
  {
   "cell_type": "code",
   "execution_count": null,
   "metadata": {},
   "outputs": [],
   "source": [
    "%%bash \n",
    "# Print directory structure\n",
    "tree -C -I \"*.nii.gz\" /data/SASRAID/ThreshNipype/Threshold/mapflow/ | grep -v -e \".*report\" -e \".*pklz\" -e \".*json\""
   ]
  },
  {
   "cell_type": "code",
   "execution_count": null,
   "metadata": {},
   "outputs": [],
   "source": []
  },
  {
   "cell_type": "code",
   "execution_count": null,
   "metadata": {},
   "outputs": [],
   "source": []
  },
  {
   "cell_type": "markdown",
   "metadata": {},
   "source": [
    "## Testing:"
   ]
  },
  {
   "cell_type": "code",
   "execution_count": null,
   "metadata": {
    "scrolled": true
   },
   "outputs": [],
   "source": [
    "!ls /data/NipypeScratch/runpbx2/_subject_id_880157/_seed*/pbx2/waytotal"
   ]
  },
  {
   "cell_type": "code",
   "execution_count": null,
   "metadata": {},
   "outputs": [],
   "source": [
    "A= '/data/NipypeScratch/runpbx2/_subject_id_880157/_seed_..data..HCP_Data..EHECHT_ROIS..Human_Hypothalamus_Right.nii.gz/pbx2/waytotal'"
   ]
  },
  {
   "cell_type": "code",
   "execution_count": null,
   "metadata": {},
   "outputs": [],
   "source": [
    "mycommand= \"cat \"+A\n",
    "mycommand= mycommand.split(sep=' ')\n",
    "result= subprocess.run(mycommand, stdout=subprocess.PIPE)\n",
    "int( result.stdout )"
   ]
  },
  {
   "cell_type": "code",
   "execution_count": null,
   "metadata": {},
   "outputs": [],
   "source": [
    "! cat '/data/NipypeScratch/runpbx2/_subject_id_880157/_seed_..data..HCP_Data..EHECHT_ROIS..Human_Hypothalamus_Right.nii.gz/pbx2/waytotal'"
   ]
  },
  {
   "cell_type": "code",
   "execution_count": null,
   "metadata": {},
   "outputs": [],
   "source": [
    "! ls /NipypeScratch"
   ]
  },
  {
   "cell_type": "code",
   "execution_count": null,
   "metadata": {},
   "outputs": [],
   "source": []
  },
  {
   "cell_type": "code",
   "execution_count": null,
   "metadata": {},
   "outputs": [],
   "source": []
  },
  {
   "cell_type": "code",
   "execution_count": null,
   "metadata": {},
   "outputs": [],
   "source": [
    "infosource = Node(IdentityInterface(fields=['fdt_path']),\n",
    "                  name=\"infosource\")\n",
    "infosource.iterables = [('fdt_path', fdt_paths)]"
   ]
  },
  {
   "cell_type": "code",
   "execution_count": null,
   "metadata": {},
   "outputs": [],
   "source": []
  }
 ],
 "metadata": {
  "kernelspec": {
   "display_name": "Python [conda root]",
   "language": "python",
   "name": "conda-root-py"
  },
  "language_info": {
   "codemirror_mode": {
    "name": "ipython",
    "version": 3
   },
   "file_extension": ".py",
   "mimetype": "text/x-python",
   "name": "python",
   "nbconvert_exporter": "python",
   "pygments_lexer": "ipython3",
   "version": "3.6.3"
  }
 },
 "nbformat": 4,
 "nbformat_minor": 2
}
